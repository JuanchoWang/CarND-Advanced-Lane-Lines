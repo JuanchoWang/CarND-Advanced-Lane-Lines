{
 "cells": [
  {
   "cell_type": "markdown",
   "metadata": {},
   "source": [
    "## Advanced Lane Finding Project\n",
    "\n",
    "The goals / steps of this project are the following:\n",
    "\n",
    "* Compute the camera calibration matrix and distortion coefficients given a set of chessboard images.\n",
    "* Apply a distortion correction to raw images.\n",
    "* Use color transforms, gradients, etc., to create a thresholded binary image.\n",
    "* Apply a perspective transform to rectify binary image (\"birds-eye view\").\n",
    "* Detect lane pixels and fit to find the lane boundary.\n",
    "* Determine the curvature of the lane and vehicle position with respect to center.\n",
    "* Warp the detected lane boundaries back onto the original image.\n",
    "* Output visual display of the lane boundaries and numerical estimation of lane curvature and vehicle position.\n",
    "\n",
    "---\n",
    "## First, I'll compute the camera calibration using chessboard images"
   ]
  },
  {
   "cell_type": "code",
   "execution_count": 1,
   "metadata": {},
   "outputs": [],
   "source": [
    "import numpy as np\n",
    "import cv2\n",
    "import glob\n",
    "import matplotlib.pyplot as plt\n",
    "%matplotlib qt\n",
    "\n",
    "# prepare object points, like (0,0,0), (1,0,0), (2,0,0) ....,(6,5,0)\n",
    "objp = np.zeros((6*9,3), np.float32)\n",
    "objp[:,:2] = np.mgrid[0:9,0:6].T.reshape(-1,2)\n",
    "\n",
    "# Arrays to store object points and image points from all the images.\n",
    "objpoints = [] # 3d points in real world space\n",
    "imgpoints = [] # 2d points in image plane.\n",
    "\n",
    "# Make a list of calibration images\n",
    "images = glob.glob('../camera_cal/calibration*.jpg')\n",
    "\n",
    "# Step through the list and search for chessboard corners\n",
    "for fname in images:\n",
    "    img = cv2.imread(fname)\n",
    "    gray = cv2.cvtColor(img,cv2.COLOR_BGR2GRAY)\n",
    "\n",
    "    # Find the chessboard corners\n",
    "    ret, corners = cv2.findChessboardCorners(gray, (9,6),None)\n",
    "\n",
    "    # If found, add object points, image points\n",
    "    if ret == True:\n",
    "        objpoints.append(objp)\n",
    "        imgpoints.append(corners)\n",
    "\n",
    "        # Draw and display the corners\n",
    "        img = cv2.drawChessboardCorners(img, (9,6), corners, ret)\n",
    "        cv2.imshow('img',img)\n",
    "        cv2.waitKey(500)\n",
    "\n",
    "cv2.destroyAllWindows()"
   ]
  },
  {
   "cell_type": "markdown",
   "metadata": {},
   "source": [
    "## And so on and so forth..."
   ]
  },
  {
   "cell_type": "code",
   "execution_count": 5,
   "metadata": {},
   "outputs": [
    {
     "name": "stdout",
     "output_type": "stream",
     "text": [
      "[[1.15777930e+03 0.00000000e+00 6.67111054e+02]\n",
      " [0.00000000e+00 1.15282291e+03 3.86128938e+02]\n",
      " [0.00000000e+00 0.00000000e+00 1.00000000e+00]]\n",
      "[[-0.24688775 -0.02373133 -0.00109842  0.00035108 -0.00258571]]\n"
     ]
    }
   ],
   "source": [
    "# calibrate camera\n",
    "ret, mtx, dist, rvecs, tvecs = cv2.calibrateCamera(objpoints, imgpoints, gray.shape[::-1], None, None)"
   ]
  },
  {
   "cell_type": "code",
   "execution_count": 2,
   "metadata": {},
   "outputs": [],
   "source": [
    "import os\n",
    "test_images = glob.glob('../test_images/*.jpg')"
   ]
  },
  {
   "cell_type": "code",
   "execution_count": 13,
   "metadata": {},
   "outputs": [],
   "source": [
    "# undistort the test images\n",
    "for fname in test_images:\n",
    "    img = cv2.imread(fname)\n",
    "    gray = cv2.cvtColor(img,cv2.COLOR_BGR2GRAY)\n",
    "    if ret:\n",
    "        cal_img = cv2.undistort(img, mtx, dist, None, mtx)\n",
    "    else:\n",
    "        print(fname, 'has a problem with calibration')\n",
    "        cal_img = img.copy()\n",
    "    cv2.imwrite(os.path.join('../output_images', 'cal_img_' + os.path.basename(fname)), cal_img)"
   ]
  },
  {
   "cell_type": "code",
   "execution_count": 18,
   "metadata": {},
   "outputs": [],
   "source": [
    "cal_images = glob.glob('../output_images/cal_img_straight*.jpg') + glob.glob('../output_images/cal_img_test*.jpg')\n",
    "for fname in cal_images:\n",
    "    img = cv2.imread(fname)\n",
    "    gray = cv2.cvtColor(img,cv2.COLOR_BGR2GRAY)    \n",
    "    mag_threshold = (60, 255)\n",
    "    R_threshold = (70, 255)\n",
    "    S_threshold = (100, 255)  # more flexible\n",
    "    #gaussian_k = 5\n",
    "    #gray = cv2.GaussianBlur(gray, (gaussian_k, gaussian_k), 0)\n",
    "    \n",
    "    # magnitude of sobel operator\n",
    "    sobelx = cv2.Sobel(gray, cv2.CV_64F, 1, 0, ksize=3)\n",
    "    sobely = cv2.Sobel(gray, cv2.CV_64F, 0, 1, ksize=3)\n",
    "    \n",
    "    mag_sobel = np.sqrt(sobelx**2 + sobely**2)\n",
    "    grad_dire = np.arctan2(abs(sobely), abs(sobelx))  # not good result\n",
    "    abs_sobel = np.absolute(mag_sobel)\n",
    "    scaled_sobel = np.uint8(255*abs_sobel/np.max(abs_sobel))\n",
    "    smag_bin_img = np.zeros_like(abs_sobel)\n",
    "    smag_bin_img[(scaled_sobel >= mag_threshold[0]) & (scaled_sobel <= mag_threshold[1])] = 255\n",
    "    \n",
    "    # r-channel of BGR color space\n",
    "    R = img[:, :, 2]\n",
    "    sobelx_R = cv2.Sobel(gray, cv2.CV_64F, 1, 0, ksize=3)\n",
    "    abs_sobel = np.absolute(sobelx_R)\n",
    "    scaled_sobel = np.uint8(255*abs_sobel/np.max(abs_sobel))\n",
    "    R_bin_img = np.zeros_like(R)\n",
    "    R_bin_img[(scaled_sobel >= R_threshold[0]) & (scaled_sobel <= R_threshold[1])] = 255\n",
    "    \n",
    "    # s-channel of HLS color space\n",
    "    hls = cv2.cvtColor(img, cv2.COLOR_BGR2HLS)\n",
    "    S = hls[:, :, 2]\n",
    "    S_bin_img = np.zeros_like(S)\n",
    "    S_bin_img[(S >= S_threshold[0]) & (S <= S_threshold[1])] = 255\n",
    "    \n",
    "    # stack channels and combine them to one binary image\n",
    "    stacked_bin_img = np.dstack((smag_bin_img, S_bin_img, S_bin_img))\n",
    "    combined_bin_img = np.zeros_like(abs_sobel)\n",
    "    combined_bin_img[(smag_bin_img == 255) | (S_bin_img == 255)] = 255\n",
    "    \n",
    "    cv2.imwrite(os.path.join('../output_images', os.path.basename(fname).replace('cal_img', 'mag_S_thresholded')), combined_bin_img)\n",
    "    #cv2.imshow('binary_img', stacked_bin_img)\n",
    "    #cv2.waitKey(1500)\n",
    "\n",
    "cv2.destroyAllWindows()"
   ]
  },
  {
   "cell_type": "code",
   "execution_count": null,
   "metadata": {},
   "outputs": [],
   "source": []
  }
 ],
 "metadata": {
  "anaconda-cloud": {},
  "kernelspec": {
   "display_name": "Python 3",
   "language": "python",
   "name": "python3"
  },
  "language_info": {
   "codemirror_mode": {
    "name": "ipython",
    "version": 3
   },
   "file_extension": ".py",
   "mimetype": "text/x-python",
   "name": "python",
   "nbconvert_exporter": "python",
   "pygments_lexer": "ipython3",
   "version": "3.8.2"
  }
 },
 "nbformat": 4,
 "nbformat_minor": 1
}
